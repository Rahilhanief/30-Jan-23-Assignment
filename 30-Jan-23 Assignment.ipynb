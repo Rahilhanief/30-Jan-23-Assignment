{
 "cells": [
  {
   "cell_type": "code",
   "execution_count": 11,
   "id": "76199cf0-777c-44dd-a29b-9b46417f4a82",
   "metadata": {},
   "outputs": [
    {
     "name": "stdin",
     "output_type": "stream",
     "text": [
      "enter your marks 95\n"
     ]
    },
    {
     "name": "stdout",
     "output_type": "stream",
     "text": [
      "you are in A grade\n"
     ]
    }
   ],
   "source": [
    "\"\"\" Q No. 1 : Write a program to accept percentage from user and display the grade according to the following criteria:\n",
    "marks >90 = A grade\n",
    "marks <=90 and marks >80 = B grade\n",
    "marks <=80 and marks >=60 = C grade\n",
    "marks <60 = D grade\n",
    "\"\"\"\n",
    "\n",
    "marks = int(input(\"enter your marks\"))\n",
    "if marks >90 :\n",
    "    print(\"you are in A grade\")\n",
    "elif marks <=90 and marks >80 :\n",
    "    print(\"yor are in B grade \")\n",
    "elif marks <=80 and marks >=60 :\n",
    "    print(\"you are in C grade\")\n",
    "else :\n",
    "    print(\"you are in D grade\")"
   ]
  },
  {
   "cell_type": "code",
   "execution_count": 12,
   "id": "9dee69d3-da23-42d9-b3ee-3598a631acb3",
   "metadata": {},
   "outputs": [
    {
     "name": "stdin",
     "output_type": "stream",
     "text": [
      "enter your Bike price 88000\n"
     ]
    },
    {
     "name": "stdout",
     "output_type": "stream",
     "text": [
      "pay 10% tax\n"
     ]
    }
   ],
   "source": [
    "\"\"\"Q No. 2 : Write a program to accept cost price of a Bike and display the road tax to be paid according to following criteria:\n",
    "if cost price > 100000 then Tax =15% \n",
    "if cost price >50000 and <=100000 then Tax =10% \n",
    "if cost price <=50000 then Tax =5% \n",
    "        \n",
    "\"\"\"\n",
    "\n",
    "Bike_price = int(input(\"enter your Bike price\"))\n",
    "if Bike_price > 100000 :\n",
    "    print(\"pay 15% tax\")\n",
    "elif Bike_price <=100000 and Bike_price >=50000 :\n",
    "    print(\"pay 10% tax\")\n",
    "else :\n",
    "    print(\"pay 5% tax\")"
   ]
  },
  {
   "cell_type": "code",
   "execution_count": 15,
   "id": "7b9635cb-d4d8-4356-88c4-af3f90b21bb9",
   "metadata": {
    "tags": []
   },
   "outputs": [
    {
     "name": "stdin",
     "output_type": "stream",
     "text": [
      "enter your city Delhi\n"
     ]
    },
    {
     "name": "stdout",
     "output_type": "stream",
     "text": [
      "Red Fort\n"
     ]
    }
   ],
   "source": [
    "\"\"\"Q No. 3 : Accept any city from the user and display monuments of that city.\n",
    "Delhi = red fort\n",
    "Agra = taj mahal\n",
    "Jaipur = jal mahal\n",
    "\n",
    "\"\"\"\n",
    "\n",
    "city =input(\"enter your city\")\n",
    "if city == \"Delhi\" :\n",
    "    print(\"Red Fort\")\n",
    "elif city == \"Agra\" :\n",
    "    print(\"Taj Mahal\")\n",
    "elif city == \"Jaipur\" :\n",
    "    print(\"Jal Mahal\")\n",
    "else :\n",
    "    print(\"enter a valid city\")"
   ]
  },
  {
   "cell_type": "code",
   "execution_count": 17,
   "id": "8e0d04e1-ff6b-436f-808d-938fecaa3881",
   "metadata": {},
   "outputs": [
    {
     "name": "stdin",
     "output_type": "stream",
     "text": [
      "Enter number greater than 10 :  15\n"
     ]
    },
    {
     "name": "stdout",
     "output_type": "stream",
     "text": [
      "2\n"
     ]
    }
   ],
   "source": [
    "# Q No. 4 :  check how many times a given number can be divided by 3 before it is less or equal to 10\n",
    "n=int(input('Enter number greater than 10 : '))\n",
    "counter = 0\n",
    "while n > 10:\n",
    "    if n % 3==0:\n",
    "        counter =counter + 1\n",
    "    n=n-1\n",
    "print(counter)"
   ]
  },
  {
   "cell_type": "code",
   "execution_count": 18,
   "id": "7e9eaa9e-69f2-411e-a402-14ccee5fe9e6",
   "metadata": {},
   "outputs": [
    {
     "name": "stdout",
     "output_type": "stream",
     "text": [
      "0\n",
      "1\n",
      "2\n",
      "3\n",
      "4\n",
      "5\n",
      "6\n",
      "7\n",
      "8\n",
      "9\n",
      "10\n"
     ]
    }
   ],
   "source": [
    "# Q No. 5 : Why and when to use While loop in Python give a detailed description with example.\n",
    "\n",
    "\n",
    "\"\"\" Python while loop is used to run a block code until a certain condition is met.\n",
    "\n",
    "The syntax of while loop is:\n",
    "\n",
    "while condition:\n",
    "    # body of while loop\n",
    "Here,\n",
    "\n",
    "1. A while loop evaluates the condition.\n",
    "2. If the condition evaluates to True, the code inside the while loop is executed.\n",
    "3. condition is evaluated again.\n",
    "4. This process continues until the condition is False.\n",
    "5. When condition evaluates to False, the loop stops.\"\"\"\n",
    "\n",
    "## Example : To print numbers upto 10 using while loop\n",
    "counter =0    \n",
    "while counter <=10:\n",
    "    print(counter)\n",
    "    counter =counter+1\n"
   ]
  },
  {
   "cell_type": "code",
   "execution_count": 24,
   "id": "8fe86b36-461f-4b8a-8947-7fa27fe1d4ff",
   "metadata": {},
   "outputs": [
    {
     "name": "stdin",
     "output_type": "stream",
     "text": [
      "Enter number of rows 3\n"
     ]
    },
    {
     "name": "stdout",
     "output_type": "stream",
     "text": [
      "* \n",
      "* * \n",
      "* * * \n"
     ]
    }
   ],
   "source": [
    "# Q No. 6 : use nested While loop to print 3 different pattern : \n",
    "\n",
    "n = int(input('Enter number of rows'))\n",
    "i = 1\n",
    "while i <= n :\n",
    "    j = 1\n",
    "    while j <= i:\n",
    "        print(\"*\", end = ' ')\n",
    "        j = j+ 1\n",
    "    print()\n",
    "    i =i + 1"
   ]
  },
  {
   "cell_type": "code",
   "execution_count": 25,
   "id": "fe0ee165-7f64-41f3-b15e-cebd7e6672f0",
   "metadata": {},
   "outputs": [
    {
     "name": "stdout",
     "output_type": "stream",
     "text": [
      "10\n",
      "9\n",
      "8\n",
      "7\n",
      "6\n",
      "5\n",
      "4\n",
      "3\n",
      "2\n",
      "1\n"
     ]
    }
   ],
   "source": [
    "# Q No. 7 : Reverse a while loop to display numbers from 10 to 1 : \n",
    "i = 10\n",
    "while i > 0:\n",
    "    print(i)\n",
    "    i = i - 1"
   ]
  }
 ],
 "metadata": {
  "kernelspec": {
   "display_name": "Python 3 (ipykernel)",
   "language": "python",
   "name": "python3"
  },
  "language_info": {
   "codemirror_mode": {
    "name": "ipython",
    "version": 3
   },
   "file_extension": ".py",
   "mimetype": "text/x-python",
   "name": "python",
   "nbconvert_exporter": "python",
   "pygments_lexer": "ipython3",
   "version": "3.10.8"
  }
 },
 "nbformat": 4,
 "nbformat_minor": 5
}
